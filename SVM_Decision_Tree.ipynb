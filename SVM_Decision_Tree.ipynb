{
 "cells": [
  {
   "cell_type": "markdown",
   "metadata": {},
   "source": [
    "# HW04 - Linear Classifiers & Decision Trees\n",
    "\n",
    "The goal of this assignment is to familiarize yourself with the SVM and Decision Tree classifiers available in scikit-learn and practice applying them to data.\n",
    "\n",
    "This assignment does _not_ require you to implement your own classifier from scratch, but you may need to look at the SciKit-Learn documentation (https://scikit-learn.org/stable/supervised_learning.html) to figure out how to call the library methods.  Note that SVMs are in chapter 1.4, and Decision Trees are in chapter 1.10 of the linked manual."
   ]
  },
  {
   "cell_type": "code",
   "execution_count": 1,
   "metadata": {},
   "outputs": [],
   "source": [
    "# import the things we'll need\n",
    "import numpy as np\n",
    "from sklearn import datasets # import toy datasets (including iris)\n",
    "from sklearn import neighbors # import nearest neighbor classifiers\n",
    "from sklearn import svm # import SVM classifiers\n",
    "from sklearn import tree # import decision tree classifiers\n",
    "from sklearn.model_selection import train_test_split # import holdout validation split method\n",
    "import matplotlib.pyplot as plt\n",
    "import pandas as pd\n",
    "import sklearn as sk"
   ]
  },
  {
   "cell_type": "markdown",
   "metadata": {},
   "source": [
    "## Load some data\n",
    "Let's go ahead and use the iris dataset again.  Load it the same way we did in Assignment 1b, and split it into 60% train and 40% test just like we did there.\n",
    "\n",
    "**Be sure to use the argument `random_state=0` just like we did in the previous assignment.**  This is a \"seed\" for the random number generator; any particular seed value should always result in the same set of \"random\" numbers.  We'll use fixed seed values here because it will allow everyone to get the same results."
   ]
  },
  {
   "cell_type": "code",
   "execution_count": 2,
   "metadata": {},
   "outputs": [
    {
     "data": {
      "text/html": [
       "<div>\n",
       "<style scoped>\n",
       "    .dataframe tbody tr th:only-of-type {\n",
       "        vertical-align: middle;\n",
       "    }\n",
       "\n",
       "    .dataframe tbody tr th {\n",
       "        vertical-align: top;\n",
       "    }\n",
       "\n",
       "    .dataframe thead th {\n",
       "        text-align: right;\n",
       "    }\n",
       "</style>\n",
       "<table border=\"1\" class=\"dataframe\">\n",
       "  <thead>\n",
       "    <tr style=\"text-align: right;\">\n",
       "      <th></th>\n",
       "      <th>sepal length (cm)</th>\n",
       "      <th>sepal width (cm)</th>\n",
       "      <th>petal length (cm)</th>\n",
       "      <th>petal width (cm)</th>\n",
       "      <th>Iris Type</th>\n",
       "    </tr>\n",
       "  </thead>\n",
       "  <tbody>\n",
       "    <tr>\n",
       "      <th>0</th>\n",
       "      <td>5.1</td>\n",
       "      <td>3.5</td>\n",
       "      <td>1.4</td>\n",
       "      <td>0.2</td>\n",
       "      <td>setosa</td>\n",
       "    </tr>\n",
       "    <tr>\n",
       "      <th>1</th>\n",
       "      <td>4.9</td>\n",
       "      <td>3.0</td>\n",
       "      <td>1.4</td>\n",
       "      <td>0.2</td>\n",
       "      <td>setosa</td>\n",
       "    </tr>\n",
       "    <tr>\n",
       "      <th>2</th>\n",
       "      <td>4.7</td>\n",
       "      <td>3.2</td>\n",
       "      <td>1.3</td>\n",
       "      <td>0.2</td>\n",
       "      <td>setosa</td>\n",
       "    </tr>\n",
       "    <tr>\n",
       "      <th>3</th>\n",
       "      <td>4.6</td>\n",
       "      <td>3.1</td>\n",
       "      <td>1.5</td>\n",
       "      <td>0.2</td>\n",
       "      <td>setosa</td>\n",
       "    </tr>\n",
       "    <tr>\n",
       "      <th>4</th>\n",
       "      <td>5.0</td>\n",
       "      <td>3.6</td>\n",
       "      <td>1.4</td>\n",
       "      <td>0.2</td>\n",
       "      <td>setosa</td>\n",
       "    </tr>\n",
       "  </tbody>\n",
       "</table>\n",
       "</div>"
      ],
      "text/plain": [
       "   sepal length (cm)  sepal width (cm)  petal length (cm)  petal width (cm)  \\\n",
       "0                5.1               3.5                1.4               0.2   \n",
       "1                4.9               3.0                1.4               0.2   \n",
       "2                4.7               3.2                1.3               0.2   \n",
       "3                4.6               3.1                1.5               0.2   \n",
       "4                5.0               3.6                1.4               0.2   \n",
       "\n",
       "  Iris Type  \n",
       "0    setosa  \n",
       "1    setosa  \n",
       "2    setosa  \n",
       "3    setosa  \n",
       "4    setosa  "
      ]
     },
     "execution_count": 2,
     "metadata": {},
     "output_type": "execute_result"
    }
   ],
   "source": [
    "from sklearn.datasets import load_iris\n",
    "# load the iris dataset and split it\n",
    "\n",
    "iris_data = load_iris()\n",
    "\n",
    "iris_df = pd.DataFrame(iris_data.data, columns = iris_data.feature_names)\n",
    "iris_df[\"Iris Type\"] = iris_data.target_names[iris_data.target]\n",
    "\n",
    "iris_df.head()"
   ]
  },
  {
   "cell_type": "code",
   "execution_count": 3,
   "metadata": {},
   "outputs": [],
   "source": [
    "x_train, x_test, y_train, y_test = train_test_split(iris_df.iloc[:, 0:4], iris_df[\"Iris Type\"],test_size = 0.4, random_state = 0)"
   ]
  },
  {
   "cell_type": "markdown",
   "metadata": {},
   "source": [
    "## Create a Nearest Neighbor classifier\n",
    "Create a nearest neighbor classifier just like we did in Assignment 1b; here, we will use it as a baseline for comparing our new classifiers.  Be sure to train it and then evaluate its performance on the testing data (again, you should be able to use code from the previous assignment with little or no modification to do this).  Use an n_neighbors value of 1.  This should give you the same accuracy as you got in the previous assignment.\n",
    "\n",
    "Once you've got it working, try changing the `random_state` value in the train_test_split function to 1 and re-running your nearest-neighbor classifier.  Try it again with a value of 2.  Write down each of the accuracies below; the first one has been done for you."
   ]
  },
  {
   "cell_type": "code",
   "execution_count": 4,
   "metadata": {},
   "outputs": [
    {
     "name": "stdout",
     "output_type": "stream",
     "text": [
      "seed =  0 accuracy =  0.9166666666666666\n",
      "seed =  1 accuracy =  0.9666666666666667\n",
      "seed =  2 accuracy =  0.9666666666666667\n"
     ]
    }
   ],
   "source": [
    "# create, train, and test a nearest neighbor classifier\n",
    "from sklearn.neighbors import KNeighborsClassifier\n",
    "\n",
    "for i in range(0,3):\n",
    "    x_train, x_test, y_train, y_test = train_test_split(iris_df.iloc[:, 0:4], iris_df[\"Iris Type\"],test_size = 0.4, random_state = i)\n",
    "    knn = KNeighborsClassifier(n_neighbors=1, \n",
    "                               p=2, \n",
    "                               metric='minkowski')\n",
    "    knn.fit(x_train, y_train)\n",
    "    print(\"seed = \", i , \"accuracy = \", knn.score(x_test, y_test))"
   ]
  },
  {
   "cell_type": "markdown",
   "metadata": {},
   "source": [
    "**Question 1: accuracy of nearest neighbor for different random seed values**\n",
    "\n",
    "seed=0, accuracy = 0.9166666666666666\n",
    "\n",
    "seed=1, accuracy =\n",
    "\n",
    "seed=2, accuracy = "
   ]
  },
  {
   "cell_type": "markdown",
   "metadata": {},
   "source": [
    "## Create a linear SVM\n",
    "Code to create a linear SVM is given; however, it is left to you to add lines to train the SVM on the training data and then evaluate its accuracy on the testing data.  This should work just like the training/testing process did using the nearestNeighbor class.\n",
    "\n",
    "Test your classifier on different train/test splits using the same three random-seed values as previously, and report the accuracies you get."
   ]
  },
  {
   "cell_type": "code",
   "execution_count": 5,
   "metadata": {},
   "outputs": [
    {
     "name": "stdout",
     "output_type": "stream",
     "text": [
      "seed =  0 accuracy =  1.0\n",
      "seed =  1 accuracy =  1.0\n",
      "seed =  2 accuracy =  0.9666666666666667\n"
     ]
    }
   ],
   "source": [
    "linearSvm = svm.SVC(kernel='linear')\n",
    "# train and test\n",
    "train_test_splits = [0.2, 0.3, 0.4]\n",
    "seeds = [0, 1, 2]\n",
    "for split,seed in zip(train_test_splits, seeds):\n",
    "    x_train, x_test, y_train, y_test = train_test_split(iris_df.iloc[:, 0:4], iris_df[\"Iris Type\"],test_size = split, random_state = seed)\n",
    "    linearSvm.fit(x_train, y_train)    \n",
    "    print(\"seed = \", seed, \"accuracy = \", linearSvm.score(x_test, y_test))"
   ]
  },
  {
   "cell_type": "markdown",
   "metadata": {},
   "source": [
    "**Question 2: accuracy of linear SVM for different random seed values**\n",
    "\n",
    "seed=0, accuracy =\n",
    "\n",
    "seed=1, accuracy =\n",
    "\n",
    "seed=2, accuracy = "
   ]
  },
  {
   "cell_type": "markdown",
   "metadata": {},
   "source": [
    "## Create a polynomial-kernel SVM\n",
    "Create another SVM, only this time use the argument `kernel='poly'` to make an SVM using a polynomial kernel.  Train and test it with different seed values as before."
   ]
  },
  {
   "cell_type": "code",
   "execution_count": 6,
   "metadata": {},
   "outputs": [
    {
     "name": "stdout",
     "output_type": "stream",
     "text": [
      "seed =  0 accuracy =  1.0\n",
      "seed =  1 accuracy =  0.9777777777777777\n",
      "seed =  2 accuracy =  0.9666666666666667\n"
     ]
    }
   ],
   "source": [
    "# create, train, and test\n",
    "linearSvm = svm.SVC(kernel='poly')\n",
    "# train and test\n",
    "train_test_splits = [0.2, 0.3, 0.4]\n",
    "seeds = [0, 1, 2]\n",
    "for split,seed in zip(train_test_splits, seeds):\n",
    "    x_train, x_test, y_train, y_test = train_test_split(iris_df.iloc[:, 0:4], iris_df[\"Iris Type\"],test_size = split, random_state = seed)\n",
    "    linearSvm.fit(x_train, y_train)    \n",
    "    print(\"seed = \", seed, \"accuracy = \", linearSvm.score(x_test, y_test))\n"
   ]
  },
  {
   "cell_type": "markdown",
   "metadata": {},
   "source": [
    "**Question 3: accuracy of polynomial SVM for different random seed values**\n",
    "\n",
    "seed=0, accuracy =\n",
    "\n",
    "seed=1, accuracy =\n",
    "\n",
    "seed=2, accuracy = "
   ]
  },
  {
   "cell_type": "markdown",
   "metadata": {},
   "source": [
    "## Create a rbf-kernel SVM\n",
    "\n",
    "Create another svm, this time using `'rbf'` for the kernel type.  Train and test as before."
   ]
  },
  {
   "cell_type": "code",
   "execution_count": 7,
   "metadata": {},
   "outputs": [
    {
     "name": "stdout",
     "output_type": "stream",
     "text": [
      "seed =  0 accuracy =  1.0\n",
      "seed =  1 accuracy =  0.9777777777777777\n",
      "seed =  2 accuracy =  0.9333333333333333\n"
     ]
    }
   ],
   "source": [
    "# create, train, and test\n",
    "linearSvm = svm.SVC(kernel='rbf')\n",
    "# train and test\n",
    "train_test_splits = [0.2, 0.3, 0.4]\n",
    "seeds = [0, 1, 2]\n",
    "for split,seed in zip(train_test_splits, seeds):\n",
    "    x_train, x_test, y_train, y_test = train_test_split(iris_df.iloc[:, 0:4], iris_df[\"Iris Type\"],test_size = split, random_state = seed)\n",
    "    linearSvm.fit(x_train, y_train)    \n",
    "    print(\"seed = \", seed, \"accuracy = \", linearSvm.score(x_test, y_test))"
   ]
  },
  {
   "cell_type": "markdown",
   "metadata": {},
   "source": [
    "**Question 4: accuracy of rbf SVM for different random seed values**\n",
    "\n",
    "seed=0, accuracy =\n",
    "\n",
    "seed=1, accuracy =\n",
    "\n",
    "seed=2, accuracy = "
   ]
  },
  {
   "cell_type": "markdown",
   "metadata": {},
   "source": [
    "## Create a Decision Tree\n",
    "\n",
    "Create a decision tree, using `tree.DecisionTreeClassifier()` as your classifier.  Train and test as before."
   ]
  },
  {
   "cell_type": "code",
   "execution_count": 8,
   "metadata": {},
   "outputs": [
    {
     "name": "stdout",
     "output_type": "stream",
     "text": [
      "seed =  0 accuracy =  0.9666666666666667\n",
      "seed =  1 accuracy =  0.9555555555555556\n",
      "seed =  2 accuracy =  0.9333333333333333\n"
     ]
    }
   ],
   "source": [
    "# create, train, and test\n",
    "decision_tree = tree.DecisionTreeClassifier()\n",
    "\n",
    "train_test_splits = [0.2, 0.3, 0.4]\n",
    "seeds = [0, 1, 2]\n",
    "for split,seed in zip(train_test_splits, seeds):\n",
    "    x_train, x_test, y_train, y_test = train_test_split(iris_df.iloc[:, 0:4], iris_df[\"Iris Type\"],test_size = split, random_state = seed)\n",
    "    decision_tree.fit(x_train, y_train)    \n",
    "    print(\"seed = \", seed, \"accuracy = \", linearSvm.score(x_test, y_test))"
   ]
  },
  {
   "cell_type": "markdown",
   "metadata": {},
   "source": [
    "**Question 5: accuracy of decision tree for different random seed values**\n",
    "\n",
    "seed=0, accuracy =\n",
    "\n",
    "seed=1, accuracy =\n",
    "\n",
    "seed=2, accuracy = "
   ]
  },
  {
   "cell_type": "markdown",
   "metadata": {},
   "source": [
    "## Visualize a Decision Tree as text\n",
    "\n",
    "Use the `tree.export_text()` method, which takes a trained classifier as its first parameter, and a set of feature names as its second parameter (you should use `feature_names=iris['feature_names']` as the second parameter); the result should be a text based visualization of the decision tree.  Note that this method returns a string, so you'll want to `print()` the result to get it to look right."
   ]
  },
  {
   "cell_type": "code",
   "execution_count": 11,
   "metadata": {},
   "outputs": [
    {
     "name": "stdout",
     "output_type": "stream",
     "text": [
      "|--- petal length (cm) <= 2.35\n",
      "|   |--- class: setosa\n",
      "|--- petal length (cm) >  2.35\n",
      "|   |--- petal width (cm) <= 1.70\n",
      "|   |   |--- petal length (cm) <= 5.00\n",
      "|   |   |   |--- class: versicolor\n",
      "|   |   |--- petal length (cm) >  5.00\n",
      "|   |   |   |--- sepal width (cm) <= 2.75\n",
      "|   |   |   |   |--- class: versicolor\n",
      "|   |   |   |--- sepal width (cm) >  2.75\n",
      "|   |   |   |   |--- class: virginica\n",
      "|   |--- petal width (cm) >  1.70\n",
      "|   |   |--- petal length (cm) <= 4.85\n",
      "|   |   |   |--- sepal length (cm) <= 5.95\n",
      "|   |   |   |   |--- class: versicolor\n",
      "|   |   |   |--- sepal length (cm) >  5.95\n",
      "|   |   |   |   |--- class: virginica\n",
      "|   |   |--- petal length (cm) >  4.85\n",
      "|   |   |   |--- class: virginica\n",
      "\n"
     ]
    }
   ],
   "source": [
    "# visualize tree as text\n",
    "from sklearn import tree\n",
    "\n",
    "print(tree.export_text(decision_tree, iris_data.feature_names))"
   ]
  },
  {
   "cell_type": "markdown",
   "metadata": {},
   "source": [
    "## Visualize a Decision Tree as an image\n",
    "\n",
    "Use the `tree.plot_tree()` method, which takes a trained classifier as its only parameter; the result should be a graphical visualization of the decision tree"
   ]
  },
  {
   "cell_type": "code",
   "execution_count": 9,
   "metadata": {
    "collapsed": true
   },
   "outputs": [],
   "source": [
    "import matplotlib # import plotting library for pretty output\n",
    "# vizualize tree as image"
   ]
  },
  {
   "cell_type": "code",
   "execution_count": 12,
   "metadata": {},
   "outputs": [
    {
     "data": {
      "text/plain": [
       "[Text(136.72,201.996,'X[2] <= 2.35\\ngini = 0.663\\nsamples = 90\\nvalue = [27, 34, 29]'),\n",
       " Text(102.54,157.108,'gini = 0.0\\nsamples = 27\\nvalue = [27, 0, 0]'),\n",
       " Text(170.9,157.108,'X[3] <= 1.7\\ngini = 0.497\\nsamples = 63\\nvalue = [0, 34, 29]'),\n",
       " Text(68.36,112.22,'X[2] <= 5.0\\ngini = 0.057\\nsamples = 34\\nvalue = [0, 33, 1]'),\n",
       " Text(34.18,67.332,'gini = 0.0\\nsamples = 32\\nvalue = [0, 32, 0]'),\n",
       " Text(102.54,67.332,'X[1] <= 2.75\\ngini = 0.5\\nsamples = 2\\nvalue = [0, 1, 1]'),\n",
       " Text(68.36,22.444,'gini = 0.0\\nsamples = 1\\nvalue = [0, 1, 0]'),\n",
       " Text(136.72,22.444,'gini = 0.0\\nsamples = 1\\nvalue = [0, 0, 1]'),\n",
       " Text(273.44,112.22,'X[2] <= 4.85\\ngini = 0.067\\nsamples = 29\\nvalue = [0, 1, 28]'),\n",
       " Text(239.26,67.332,'X[0] <= 5.95\\ngini = 0.5\\nsamples = 2\\nvalue = [0, 1, 1]'),\n",
       " Text(205.08,22.444,'gini = 0.0\\nsamples = 1\\nvalue = [0, 1, 0]'),\n",
       " Text(273.44,22.444,'gini = 0.0\\nsamples = 1\\nvalue = [0, 0, 1]'),\n",
       " Text(307.62,67.332,'gini = 0.0\\nsamples = 27\\nvalue = [0, 0, 27]')]"
      ]
     },
     "execution_count": 12,
     "metadata": {},
     "output_type": "execute_result"
    },
    {
     "data": {
      "image/png": "[encoded data removed]",
      "text/plain": [
       "<Figure size 432x288 with 1 Axes>"
      ]
     },
     "metadata": {
      "needs_background": "light"
     },
     "output_type": "display_data"
    }
   ],
   "source": [
    "tree.plot_tree(decision_tree)"
   ]
  },
  {
   "cell_type": "code",
   "execution_count": null,
   "metadata": {
    "collapsed": true
   },
   "outputs": [],
   "source": []
  },
  {
   "cell_type": "code",
   "execution_count": null,
   "metadata": {
    "collapsed": true
   },
   "outputs": [],
   "source": []
  }
 ],
 "metadata": {
  "kernelspec": {
   "display_name": "Python 3",
   "language": "python",
   "name": "python3"
  },
  "language_info": {
   "codemirror_mode": {
    "name": "ipython",
    "version": 3
   },
   "file_extension": ".py",
   "mimetype": "text/x-python",
   "name": "python",
   "nbconvert_exporter": "python",
   "pygments_lexer": "ipython3",
   "version": "3.6.12"
  }
 },
 "nbformat": 4,
 "nbformat_minor": 4
}
